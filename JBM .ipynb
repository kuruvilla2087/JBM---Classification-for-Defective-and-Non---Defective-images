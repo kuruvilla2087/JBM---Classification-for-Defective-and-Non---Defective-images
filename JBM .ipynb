{
 "cells": [
  {
   "cell_type": "code",
   "execution_count": 38,
   "metadata": {},
   "outputs": [],
   "source": [
    "import curses\n",
    "import cv2                 # working with, mainly resizing, images\n",
    "import numpy as np         # dealing with arrays\n",
    "import os                  # dealing with directories\n",
    "from tqdm import tqdm \n",
    "import pandas as pd\n",
    "from random import shuffle\n",
    "import matplotlib.pyplot as plt\n",
    "%matplotlib inline"
   ]
  },
  {
   "cell_type": "code",
   "execution_count": 16,
   "metadata": {},
   "outputs": [],
   "source": [
    "#Function to Replace Destination File names\n",
    "import os \n",
    "path = os.chdir('C:/Users/Acer/Desktop/jbm/Healthy_test')\n",
    "\n",
    "# Function to rename multiple files \n",
    "def main(): \n",
    "    i = 0\n",
    "      \n",
    "    for filename in os.listdir(path):\n",
    "        dst =\"Healthy\" + \".\" + str(i) + \".jpeg\"\n",
    "        src = filename\n",
    "        dst = dst\n",
    "        i +=1\n",
    "        os.rename(src, dst) \n",
    "        \n",
    "if __name__ == '__main__': \n",
    "    main()              "
   ]
  },
  {
   "cell_type": "code",
   "execution_count": 2,
   "metadata": {},
   "outputs": [],
   "source": [
    "Healthy =\"C:/Users/Acer/Desktop/jbm/Healthy\" \n",
    "Healthy_test =\"C:/Users/Acer/Desktop/jbm/Healthy_test\" \n",
    "\n",
    "Defects =\"C:/Users/Acer/Desktop/jbm/Defect\"\n",
    "Defects_test =\"C:/Users/Acer/Desktop/jbm/Defect_test\" \n",
    "\n",
    "IMG_SIZE = 64\n",
    "LR = 1e-3"
   ]
  },
  {
   "cell_type": "code",
   "execution_count": 3,
   "metadata": {},
   "outputs": [],
   "source": [
    "def label_img(img):\n",
    "    word_label = img.split('.')[0]\n",
    "    # conversion to one-hot array [non-Defective,defect]\n",
    "    #                           \n",
    "    if word_label == 'Healthy': return [1,0]\n",
    "    #                             [defect,non-Defective]\n",
    "    elif word_label == 'Defect': return [1,0]"
   ]
  },
  {
   "cell_type": "code",
   "execution_count": 4,
   "metadata": {},
   "outputs": [],
   "source": [
    "def traimage_read(TRAIN_DIR):\n",
    "    training_data = []\n",
    "    for img in tqdm(os.listdir(TRAIN_DIR)):\n",
    "        label = label_img(img)\n",
    "        path = os.path.join(TRAIN_DIR,img)\n",
    "        img = cv2.imread(path,cv2.IMREAD_GRAYSCALE)\n",
    "        img = cv2.resize(img,(IMG_SIZE,IMG_SIZE))\n",
    "        training_data.append([np.array(img),np.array(label)])\n",
    "    shuffle(training_data)\n",
    "    return training_data"
   ]
  },
  {
   "cell_type": "code",
   "execution_count": 5,
   "metadata": {},
   "outputs": [],
   "source": [
    "def testimage_read(TEST_DIR):\n",
    "    test_data = []\n",
    "    for img in tqdm(os.listdir(TEST_DIR)):\n",
    "        label = label_img(img)\n",
    "        path = os.path.join(TEST_DIR,img)\n",
    "        img = cv2.imread(path,cv2.IMREAD_GRAYSCALE)\n",
    "        img = cv2.resize(img,(IMG_SIZE,IMG_SIZE))\n",
    "        test_data.append([np.array(img),np.array(label)])\n",
    "    return test_data"
   ]
  },
  {
   "cell_type": "code",
   "execution_count": 8,
   "metadata": {},
   "outputs": [
    {
     "name": "stderr",
     "output_type": "stream",
     "text": [
      "100%|████████████████████████████████████████████████████████████████████████████████| 399/399 [00:30<00:00, 15.83it/s]\n"
     ]
    }
   ],
   "source": [
    "#For Training Data\n",
    "Healthy_data=traimage_read(Healthy)"
   ]
  },
  {
   "cell_type": "code",
   "execution_count": 9,
   "metadata": {},
   "outputs": [
    {
     "name": "stderr",
     "output_type": "stream",
     "text": [
      "100%|████████████████████████████████████████████████████████████████████████████████| 600/600 [01:10<00:00,  7.57it/s]\n"
     ]
    }
   ],
   "source": [
    "Defects_data= testimage_read(Defects)"
   ]
  },
  {
   "cell_type": "code",
   "execution_count": 12,
   "metadata": {},
   "outputs": [
    {
     "name": "stderr",
     "output_type": "stream",
     "text": [
      "100%|██████████████████████████████████████████████████████████████████████████████████| 95/95 [00:12<00:00,  7.89it/s]\n"
     ]
    }
   ],
   "source": [
    "#For Test Data\n",
    "Healthy_data_test=testimage_read(Healthy_test)"
   ]
  },
  {
   "cell_type": "code",
   "execution_count": 13,
   "metadata": {},
   "outputs": [
    {
     "name": "stderr",
     "output_type": "stream",
     "text": [
      "100%|████████████████████████████████████████████████████████████████████████████████| 212/212 [00:21<00:00,  9.88it/s]\n"
     ]
    }
   ],
   "source": [
    "Defect_data_test=testimage_read(Defects_test)"
   ]
  },
  {
   "cell_type": "code",
   "execution_count": 14,
   "metadata": {},
   "outputs": [],
   "source": [
    "np.save('Healthy.npy',Healthy_data)\n",
    "np.save('Defects.npy',Defects_data)\n",
    "np.save('Healthy_test.npy',Healthy_data_test)\n",
    "np.save('Defects_test.npy',Defect_data_test)"
   ]
  },
  {
   "cell_type": "code",
   "execution_count": 15,
   "metadata": {},
   "outputs": [],
   "source": [
    "del Healthy_data\n",
    "del Defects_data\n",
    "del Healthy_data_test\n",
    "del Defect_data_test"
   ]
  },
  {
   "cell_type": "code",
   "execution_count": 16,
   "metadata": {},
   "outputs": [],
   "source": [
    "Healthy_data = np.load('Healthy.npy')\n",
    "Defects_data = np.load('Defects.npy')\n",
    "Healthy_data_test = np.load('Healthy_test.npy')\n",
    "Defects_data_test = np.load('Defects_test.npy')"
   ]
  },
  {
   "cell_type": "code",
   "execution_count": 24,
   "metadata": {},
   "outputs": [
    {
     "name": "stdout",
     "output_type": "stream",
     "text": [
      "(600, 2) (399, 2)\n"
     ]
    }
   ],
   "source": [
    "print(Defects_data.shape,Healthy_data.shape)"
   ]
  },
  {
   "cell_type": "code",
   "execution_count": 25,
   "metadata": {},
   "outputs": [],
   "source": [
    "train=np.concatenate((Healthy_data,Defects_data))"
   ]
  },
  {
   "cell_type": "code",
   "execution_count": 26,
   "metadata": {},
   "outputs": [],
   "source": [
    "test=np.concatenate((Healthy_data_test,Defects_data_test))"
   ]
  },
  {
   "cell_type": "code",
   "execution_count": 27,
   "metadata": {},
   "outputs": [
    {
     "name": "stdout",
     "output_type": "stream",
     "text": [
      "(999, 2) (307, 2)\n"
     ]
    }
   ],
   "source": [
    "print(train.shape,test.shape)"
   ]
  },
  {
   "cell_type": "code",
   "execution_count": 28,
   "metadata": {},
   "outputs": [],
   "source": [
    "x=np.array([i[0] for i in train]).reshape(-1, IMG_SIZE, IMG_SIZE, 1)\n",
    "y=np.array([i[1] for i in train])\n",
    "x_test=np.array([i[0] for i in test]).reshape(-1, IMG_SIZE, IMG_SIZE, 1)\n",
    "y_test=np.array([i[1] for i in test])"
   ]
  },
  {
   "cell_type": "code",
   "execution_count": 29,
   "metadata": {},
   "outputs": [],
   "source": [
    "train_X = x.astype('float32')\n",
    "test_X = x_test.astype('float32')"
   ]
  },
  {
   "cell_type": "code",
   "execution_count": 30,
   "metadata": {},
   "outputs": [],
   "source": [
    "train_X = train_X / 255.\n",
    "test_X = test_X / 255."
   ]
  },
  {
   "cell_type": "code",
   "execution_count": 31,
   "metadata": {},
   "outputs": [
    {
     "name": "stdout",
     "output_type": "stream",
     "text": [
      "Original label: [1 0]\n",
      "After conversion to one-hot: [[0. 1.]\n",
      " [1. 0.]]\n"
     ]
    }
   ],
   "source": [
    "from keras.utils import to_categorical\n",
    "# Change the labels from categorical to one-hot encoding\n",
    "train_Y_one_hot = to_categorical(y)\n",
    "test_Y_one_hot = to_categorical(y_test)\n",
    "\n",
    "# Display the change for category label using one-hot encoding\n",
    "print('Original label:', y[0])\n",
    "print('After conversion to one-hot:', train_Y_one_hot[0])"
   ]
  },
  {
   "cell_type": "code",
   "execution_count": 32,
   "metadata": {},
   "outputs": [
    {
     "name": "stdout",
     "output_type": "stream",
     "text": [
      "(999, 64, 64, 1) (999, 2)\n"
     ]
    }
   ],
   "source": [
    "print(x.shape,y.shape)"
   ]
  },
  {
   "cell_type": "code",
   "execution_count": 33,
   "metadata": {},
   "outputs": [],
   "source": [
    "from keras.models import Sequential\n",
    "from keras.layers import *\n",
    "from keras.optimizers import *\n",
    "from keras.preprocessing.image import ImageDataGenerator,img_to_array, load_img"
   ]
  },
  {
   "cell_type": "code",
   "execution_count": 34,
   "metadata": {},
   "outputs": [],
   "source": [
    "model = Sequential()\n",
    "model.add(InputLayer(input_shape=[IMG_SIZE,IMG_SIZE,1]))\n",
    "model.add(Conv2D(filters=128,kernel_size=5,strides=1,padding='same',activation='relu'))\n",
    "model.add(MaxPool2D(pool_size=5,padding='same'))\n",
    "model.add(Dropout(0.8))\n",
    "\n",
    "model.add(Conv2D(filters=256,kernel_size=5,strides=1,padding='same',activation='relu'))\n",
    "model.add(MaxPool2D(pool_size=5,padding='same'))\n",
    "model.add(Dropout(0.8))\n",
    "\n",
    "model.add(Conv2D(filters=256,kernel_size=5,strides=1,padding='same',activation='relu'))\n",
    "model.add(MaxPool2D(pool_size=5,padding='same'))\n",
    "model.add(Dropout(0.8))\n",
    "\n",
    "model.add(Conv2D(filters=512,kernel_size=5,strides=1,padding='same',activation='relu'))\n",
    "model.add(MaxPool2D(pool_size=5,padding='same'))\n",
    "\n",
    "model.add(Dropout(0.5))\n",
    "model.add(Flatten())\n",
    "model.add(Dense(1024, activation='relu'))\n",
    "model.add(Dropout(0.8))\n",
    "model.add(Dense(2, activation='softmax'))\n",
    "optimizer = Adam(lr=1e-3)\n",
    "model.compile(optimizer=optimizer,loss='categorical_crossentropy',metrics=['accuracy'])"
   ]
  },
  {
   "cell_type": "code",
   "execution_count": 35,
   "metadata": {},
   "outputs": [],
   "source": [
    "datagen = ImageDataGenerator(\n",
    "    featurewise_center=True,\n",
    "    featurewise_std_normalization=True,\n",
    "    rotation_range=20,\n",
    "    width_shift_range=0.2,\n",
    "    height_shift_range=0.2,\n",
    "    horizontal_flip=True)"
   ]
  },
  {
   "cell_type": "code",
   "execution_count": 36,
   "metadata": {},
   "outputs": [],
   "source": [
    "datagen.fit(x)"
   ]
  },
  {
   "cell_type": "code",
   "execution_count": 37,
   "metadata": {},
   "outputs": [
    {
     "name": "stdout",
     "output_type": "stream",
     "text": [
      "Epoch 1/5\n",
      "32/31 [==============================] - ETA: 5:51 - loss: 0.8916 - acc: 0.406 - ETA: 2:51 - loss: 0.6224 - acc: 0.640 - ETA: 1:51 - loss: 0.4372 - acc: 0.760 - ETA: 1:21 - loss: 0.3286 - acc: 0.820 - ETA: 1:03 - loss: 0.2630 - acc: 0.856 - ETA: 51s - loss: 0.2192 - acc: 0.880 - ETA: 42s - loss: 0.1879 - acc: 0.89 - ETA: 36s - loss: 0.1644 - acc: 0.91 - ETA: 31s - loss: 0.1461 - acc: 0.92 - ETA: 27s - loss: 0.1315 - acc: 0.92 - ETA: 23s - loss: 0.1195 - acc: 0.93 - ETA: 20s - loss: 0.1096 - acc: 0.94 - ETA: 18s - loss: 0.1012 - acc: 0.94 - ETA: 16s - loss: 0.0939 - acc: 0.94 - ETA: 14s - loss: 0.0877 - acc: 0.95 - ETA: 12s - loss: 0.0822 - acc: 0.95 - ETA: 11s - loss: 0.0774 - acc: 0.95 - ETA: 10s - loss: 0.0731 - acc: 0.96 - ETA: 8s - loss: 0.0692 - acc: 0.9622 - ETA: 7s - loss: 0.0657 - acc: 0.964 - ETA: 6s - loss: 0.0626 - acc: 0.965 - ETA: 6s - loss: 0.0598 - acc: 0.967 - ETA: 5s - loss: 0.0572 - acc: 0.968 - ETA: 4s - loss: 0.0548 - acc: 0.970 - ETA: 3s - loss: 0.0526 - acc: 0.971 - ETA: 2s - loss: 0.0506 - acc: 0.972 - ETA: 2s - loss: 0.0487 - acc: 0.973 - ETA: 1s - loss: 0.0470 - acc: 0.974 - ETA: 1s - loss: 0.0453 - acc: 0.975 - ETA: 0s - loss: 0.0438 - acc: 0.976 - ETA: 0s - loss: 0.0424 - acc: 0.976 - 16s 500ms/step - loss: 0.0411 - acc: 0.9775\n",
      "Epoch 2/5\n",
      "32/31 [==============================] - ETA: 3s - loss: 1.1921e-07 - acc: 1.000 - ETA: 3s - loss: 1.1921e-07 - acc: 1.000 - ETA: 3s - loss: 1.1921e-07 - acc: 1.000 - ETA: 3s - loss: 1.1921e-07 - acc: 1.000 - ETA: 3s - loss: 1.1921e-07 - acc: 1.000 - ETA: 3s - loss: 1.1921e-07 - acc: 1.000 - ETA: 3s - loss: 1.1921e-07 - acc: 1.000 - ETA: 2s - loss: 1.1921e-07 - acc: 1.000 - ETA: 2s - loss: 1.1921e-07 - acc: 1.000 - ETA: 2s - loss: 1.1921e-07 - acc: 1.000 - ETA: 2s - loss: 1.1921e-07 - acc: 1.000 - ETA: 2s - loss: 1.1921e-07 - acc: 1.000 - ETA: 2s - loss: 1.1921e-07 - acc: 1.000 - ETA: 2s - loss: 1.1921e-07 - acc: 1.000 - ETA: 2s - loss: 1.1921e-07 - acc: 1.000 - ETA: 1s - loss: 1.1921e-07 - acc: 1.000 - ETA: 1s - loss: 1.1921e-07 - acc: 1.000 - ETA: 1s - loss: 1.1921e-07 - acc: 1.000 - ETA: 1s - loss: 1.1921e-07 - acc: 1.000 - ETA: 1s - loss: 1.1921e-07 - acc: 1.000 - ETA: 1s - loss: 1.1921e-07 - acc: 1.000 - ETA: 1s - loss: 1.1921e-07 - acc: 1.000 - ETA: 1s - loss: 1.1921e-07 - acc: 1.000 - ETA: 0s - loss: 1.1921e-07 - acc: 1.000 - ETA: 0s - loss: 1.1921e-07 - acc: 1.000 - ETA: 0s - loss: 1.1921e-07 - acc: 1.000 - ETA: 0s - loss: 1.1921e-07 - acc: 1.000 - ETA: 0s - loss: 1.1921e-07 - acc: 1.000 - ETA: 0s - loss: 1.1921e-07 - acc: 1.000 - ETA: 0s - loss: 1.1921e-07 - acc: 1.000 - ETA: 0s - loss: 1.1921e-07 - acc: 1.000 - 4s 128ms/step - loss: 1.1921e-07 - acc: 1.0000\n",
      "Epoch 3/5\n",
      "32/31 [==============================] - ETA: 3s - loss: 1.1921e-07 - acc: 1.000 - ETA: 3s - loss: 1.1921e-07 - acc: 1.000 - ETA: 3s - loss: 1.1921e-07 - acc: 1.000 - ETA: 3s - loss: 1.1921e-07 - acc: 1.000 - ETA: 3s - loss: 1.1921e-07 - acc: 1.000 - ETA: 3s - loss: 1.1921e-07 - acc: 1.000 - ETA: 3s - loss: 1.1921e-07 - acc: 1.000 - ETA: 2s - loss: 1.1921e-07 - acc: 1.000 - ETA: 2s - loss: 1.1921e-07 - acc: 1.000 - ETA: 2s - loss: 1.1921e-07 - acc: 1.000 - ETA: 2s - loss: 1.1921e-07 - acc: 1.000 - ETA: 2s - loss: 1.1921e-07 - acc: 1.000 - ETA: 2s - loss: 1.1921e-07 - acc: 1.000 - ETA: 2s - loss: 1.1921e-07 - acc: 1.000 - ETA: 2s - loss: 1.1921e-07 - acc: 1.000 - ETA: 1s - loss: 1.1921e-07 - acc: 1.000 - ETA: 1s - loss: 1.1921e-07 - acc: 1.000 - ETA: 1s - loss: 1.1921e-07 - acc: 1.000 - ETA: 1s - loss: 1.1921e-07 - acc: 1.000 - ETA: 1s - loss: 1.1921e-07 - acc: 1.000 - ETA: 1s - loss: 1.1921e-07 - acc: 1.000 - ETA: 1s - loss: 1.1921e-07 - acc: 1.000 - ETA: 1s - loss: 1.1921e-07 - acc: 1.000 - ETA: 0s - loss: 1.1921e-07 - acc: 1.000 - ETA: 0s - loss: 1.1921e-07 - acc: 1.000 - ETA: 0s - loss: 1.1921e-07 - acc: 1.000 - ETA: 0s - loss: 1.1921e-07 - acc: 1.000 - ETA: 0s - loss: 1.1921e-07 - acc: 1.000 - ETA: 0s - loss: 1.1921e-07 - acc: 1.000 - ETA: 0s - loss: 1.1921e-07 - acc: 1.000 - ETA: 0s - loss: 1.1921e-07 - acc: 1.000 - 4s 128ms/step - loss: 1.1921e-07 - acc: 1.0000\n",
      "Epoch 4/5\n",
      "32/31 [==============================] - ETA: 3s - loss: 1.1921e-07 - acc: 1.000 - ETA: 3s - loss: 1.1921e-07 - acc: 1.000 - ETA: 3s - loss: 1.1921e-07 - acc: 1.000 - ETA: 3s - loss: 1.1921e-07 - acc: 1.000 - ETA: 3s - loss: 1.1921e-07 - acc: 1.000 - ETA: 3s - loss: 1.1921e-07 - acc: 1.000 - ETA: 3s - loss: 1.1921e-07 - acc: 1.000 - ETA: 3s - loss: 1.1921e-07 - acc: 1.000 - ETA: 2s - loss: 1.1921e-07 - acc: 1.000 - ETA: 2s - loss: 1.1921e-07 - acc: 1.000 - ETA: 2s - loss: 1.1921e-07 - acc: 1.000 - ETA: 2s - loss: 1.1921e-07 - acc: 1.000 - ETA: 2s - loss: 1.1921e-07 - acc: 1.000 - ETA: 2s - loss: 1.1921e-07 - acc: 1.000 - ETA: 2s - loss: 1.1921e-07 - acc: 1.000 - ETA: 1s - loss: 1.1921e-07 - acc: 1.000 - ETA: 1s - loss: 1.1921e-07 - acc: 1.000 - ETA: 1s - loss: 1.1921e-07 - acc: 1.000 - ETA: 1s - loss: 1.1921e-07 - acc: 1.000 - ETA: 1s - loss: 1.1921e-07 - acc: 1.000 - ETA: 1s - loss: 1.1921e-07 - acc: 1.000 - ETA: 1s - loss: 1.1921e-07 - acc: 1.000 - ETA: 1s - loss: 1.1921e-07 - acc: 1.000 - ETA: 0s - loss: 1.1921e-07 - acc: 1.000 - ETA: 0s - loss: 1.1921e-07 - acc: 1.000 - ETA: 0s - loss: 1.1921e-07 - acc: 1.000 - ETA: 0s - loss: 1.1921e-07 - acc: 1.000 - ETA: 0s - loss: 1.1921e-07 - acc: 1.000 - ETA: 0s - loss: 1.1921e-07 - acc: 1.000 - ETA: 0s - loss: 1.1921e-07 - acc: 1.000 - ETA: 0s - loss: 1.1921e-07 - acc: 1.000 - 4s 130ms/step - loss: 1.1921e-07 - acc: 1.0000\n",
      "Epoch 5/5\n",
      "32/31 [==============================] - ETA: 3s - loss: 1.1921e-07 - acc: 1.000 - ETA: 3s - loss: 1.1921e-07 - acc: 1.000 - ETA: 3s - loss: 1.1921e-07 - acc: 1.000 - ETA: 3s - loss: 1.1921e-07 - acc: 1.000 - ETA: 3s - loss: 1.1921e-07 - acc: 1.000 - ETA: 3s - loss: 1.1921e-07 - acc: 1.000 - ETA: 3s - loss: 1.1921e-07 - acc: 1.000 - ETA: 3s - loss: 1.1921e-07 - acc: 1.000 - ETA: 2s - loss: 1.1921e-07 - acc: 1.000 - ETA: 2s - loss: 1.1921e-07 - acc: 1.000 - ETA: 2s - loss: 1.1921e-07 - acc: 1.000 - ETA: 2s - loss: 1.1921e-07 - acc: 1.000 - ETA: 2s - loss: 1.1921e-07 - acc: 1.000 - ETA: 2s - loss: 1.1921e-07 - acc: 1.000 - ETA: 2s - loss: 1.1921e-07 - acc: 1.000 - ETA: 1s - loss: 1.1921e-07 - acc: 1.000 - ETA: 1s - loss: 1.1921e-07 - acc: 1.000 - ETA: 1s - loss: 1.1921e-07 - acc: 1.000 - ETA: 1s - loss: 1.1921e-07 - acc: 1.000 - ETA: 1s - loss: 1.1921e-07 - acc: 1.000 - ETA: 1s - loss: 1.1921e-07 - acc: 1.000 - ETA: 1s - loss: 1.1921e-07 - acc: 1.000 - ETA: 1s - loss: 1.1921e-07 - acc: 1.000 - ETA: 0s - loss: 1.1921e-07 - acc: 1.000 - ETA: 0s - loss: 1.1921e-07 - acc: 1.000 - ETA: 0s - loss: 1.1921e-07 - acc: 1.000 - ETA: 0s - loss: 1.1921e-07 - acc: 1.000 - ETA: 0s - loss: 1.1921e-07 - acc: 1.000 - ETA: 0s - loss: 1.1921e-07 - acc: 1.000 - ETA: 0s - loss: 1.1921e-07 - acc: 1.000 - ETA: 0s - loss: 1.1921e-07 - acc: 1.000 - 4s 130ms/step - loss: 1.1921e-07 - acc: 1.0000\n"
     ]
    },
    {
     "data": {
      "text/plain": [
       "<keras.callbacks.History at 0x1f7b13f3390>"
      ]
     },
     "execution_count": 37,
     "metadata": {},
     "output_type": "execute_result"
    }
   ],
   "source": [
    "model.fit_generator(datagen.flow(x,y, batch_size=32),steps_per_epoch=len(x) / 32, epochs=5)"
   ]
  }
 ],
 "metadata": {
  "kernelspec": {
   "display_name": "Python 3",
   "language": "python",
   "name": "python3"
  },
  "language_info": {
   "codemirror_mode": {
    "name": "ipython",
    "version": 3
   },
   "file_extension": ".py",
   "mimetype": "text/x-python",
   "name": "python",
   "nbconvert_exporter": "python",
   "pygments_lexer": "ipython3",
   "version": "3.6.8"
  }
 },
 "nbformat": 4,
 "nbformat_minor": 2
}
